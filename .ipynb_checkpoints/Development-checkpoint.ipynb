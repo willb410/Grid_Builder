{
 "cells": [
  {
   "cell_type": "code",
   "execution_count": 1,
   "metadata": {},
   "outputs": [],
   "source": [
    "import os\n",
    "import sys\n",
    "\n",
    "from Classes import *\n",
    "from Rhythms import *\n",
    "from Notes import *\n",
    "from Modifiers import *"
   ]
  },
  {
   "cell_type": "code",
   "execution_count": 2,
   "metadata": {},
   "outputs": [
    {
     "name": "stdout",
     "output_type": "stream",
     "text": [
      "[Flam(location=left, )]\n",
      "[Accent(location=top, dynamic=12, )]\n",
      "[]\n",
      "[]\n",
      "[Flam(location=left, )]\n"
     ]
    },
    {
     "data": {
      "text/plain": [
       "Rhythm(duration=0.3125, notes=[Note(duration=0.0625, sticking=R, dynamic=3, modifiers=['Flam']), Note(duration=0.0625, sticking=L, dynamic=12, modifiers=['Accent']), Note(duration=0.0625, sticking=R, dynamic=3, modifiers=[]), Note(duration=0.0625, sticking=L, dynamic=3, modifiers=[]), Note(duration=0.0625, sticking=R, dynamic=3, modifiers=['Flam'])])"
      ]
     },
     "execution_count": 2,
     "metadata": {},
     "output_type": "execute_result"
    }
   ],
   "source": [
    "make_flamacue()"
   ]
  },
  {
   "cell_type": "code",
   "execution_count": 4,
   "metadata": {},
   "outputs": [
    {
     "name": "stdout",
     "output_type": "stream",
     "text": [
      "pdd dur: 0.31249999999999994\n",
      "0.020833333333333332\n",
      "0.020833333333333332\n",
      "0.020833333333333332\n",
      "0.020833333333333332\n",
      "0.020833333333333332\n",
      "0.020833333333333332\n",
      "0.020833333333333332\n",
      "0.020833333333333332\n",
      "0.020833333333333332\n",
      "0.020833333333333332\n",
      "0.020833333333333332\n",
      "0.020833333333333332\n",
      "0.020833333333333332\n",
      "0.020833333333333332\n",
      "0.020833333333333332\n"
     ]
    }
   ],
   "source": [
    "pdd = make_flamacue()\n",
    "print('pdd dur:', pdd.duration)\n",
    "for note in pdd.notes:\n",
    "    print(note.duration)"
   ]
  },
  {
   "cell_type": "code",
   "execution_count": 4,
   "metadata": {},
   "outputs": [
    {
     "data": {
      "text/plain": [
       "Rhythm(duration=0.5, notes=[Note(duration=0.0833, sticking=R, dynamic=12, modifiers=['Accent']), Note(duration=0.0833, sticking=L, dynamic=3, modifiers=[]), Note(duration=0.0833, sticking=R, dynamic=3, modifiers=[]), Note(duration=0.0833, sticking=R, dynamic=3, modifiers=[]), Note(duration=0.0833, sticking=L, dynamic=3, modifiers=[]), Note(duration=0.0833, sticking=L, dynamic=3, modifiers=[])])"
      ]
     },
     "execution_count": 4,
     "metadata": {},
     "output_type": "execute_result"
    }
   ],
   "source": [
    "pdd"
   ]
  },
  {
   "cell_type": "code",
   "execution_count": 2,
   "metadata": {
    "collapsed": true,
    "jupyter": {
     "outputs_hidden": true
    }
   },
   "outputs": [
    {
     "ename": "TypeError",
     "evalue": "type() takes 1 or 3 arguments",
     "output_type": "error",
     "traceback": [
      "\u001b[1;31m---------------------------------------------------------------------------\u001b[0m",
      "\u001b[1;31mTypeError\u001b[0m                                 Traceback (most recent call last)",
      "\u001b[1;32m<ipython-input-2-b62a63fdd136>\u001b[0m in \u001b[0;36m<module>\u001b[1;34m\u001b[0m\n\u001b[0;32m      2\u001b[0m \u001b[0mbar1\u001b[0m \u001b[1;33m=\u001b[0m \u001b[0mBar\u001b[0m\u001b[1;33m(\u001b[0m\u001b[0mSheet\u001b[0m\u001b[1;33m(\u001b[0m\u001b[1;33m)\u001b[0m\u001b[1;33m)\u001b[0m\u001b[1;33m\u001b[0m\u001b[1;33m\u001b[0m\u001b[0m\n\u001b[0;32m      3\u001b[0m \u001b[1;33m\u001b[0m\u001b[0m\n\u001b[1;32m----> 4\u001b[1;33m \u001b[0mparadiddle\u001b[0m \u001b[1;33m=\u001b[0m \u001b[0mmake_paradiddle\u001b[0m\u001b[1;33m(\u001b[0m\u001b[1;33m)\u001b[0m\u001b[1;33m\u001b[0m\u001b[1;33m\u001b[0m\u001b[0m\n\u001b[0m\u001b[0;32m      5\u001b[0m \u001b[1;33m\u001b[0m\u001b[0m\n\u001b[0;32m      6\u001b[0m \u001b[0m_let\u001b[0m \u001b[1;33m=\u001b[0m \u001b[0mNote\u001b[0m\u001b[1;33m(\u001b[0m\u001b[1;36m1\u001b[0m\u001b[1;33m/\u001b[0m\u001b[1;36m16\u001b[0m\u001b[1;33m,\u001b[0m \u001b[1;34m'L'\u001b[0m\u001b[1;33m,\u001b[0m \u001b[1;36m3\u001b[0m\u001b[1;33m)\u001b[0m\u001b[1;33m\u001b[0m\u001b[1;33m\u001b[0m\u001b[0m\n",
      "\u001b[1;32m~\\OneDrive\\Projects\\Grid Builder\\Grid_Builder\\Rhythms.py\u001b[0m in \u001b[0;36mwrapper\u001b[1;34m(*duration)\u001b[0m\n\u001b[0;32m     67\u001b[0m         \u001b[0mrhythm\u001b[0m \u001b[1;33m=\u001b[0m \u001b[0mfunc\u001b[0m\u001b[1;33m(\u001b[0m\u001b[1;33m*\u001b[0m\u001b[0mduration\u001b[0m\u001b[1;33m)\u001b[0m\u001b[1;33m\u001b[0m\u001b[1;33m\u001b[0m\u001b[0m\n\u001b[0;32m     68\u001b[0m \u001b[1;33m\u001b[0m\u001b[0m\n\u001b[1;32m---> 69\u001b[1;33m         \u001b[1;32mif\u001b[0m \u001b[0mtype\u001b[0m\u001b[1;33m(\u001b[0m\u001b[1;33m*\u001b[0m\u001b[0mduration\u001b[0m\u001b[1;33m)\u001b[0m \u001b[1;32min\u001b[0m \u001b[1;33m[\u001b[0m\u001b[0mfloat\u001b[0m\u001b[1;33m,\u001b[0m \u001b[0mint\u001b[0m\u001b[1;33m]\u001b[0m\u001b[1;33m:\u001b[0m\u001b[1;33m\u001b[0m\u001b[1;33m\u001b[0m\u001b[0m\n\u001b[0m\u001b[0;32m     70\u001b[0m             \u001b[0mduration\u001b[0m \u001b[1;33m=\u001b[0m \u001b[1;33m[\u001b[0m\u001b[0mduration\u001b[0m \u001b[1;33m/\u001b[0m \u001b[0mlen\u001b[0m\u001b[1;33m(\u001b[0m\u001b[0mrhythm\u001b[0m\u001b[1;33m.\u001b[0m\u001b[0mnotes\u001b[0m\u001b[1;33m)\u001b[0m\u001b[1;33m]\u001b[0m\u001b[1;33m\u001b[0m\u001b[1;33m\u001b[0m\u001b[0m\n\u001b[0;32m     71\u001b[0m         \u001b[0mrhythm\u001b[0m\u001b[1;33m.\u001b[0m\u001b[0mset_duration\u001b[0m\u001b[1;33m(\u001b[0m\u001b[1;33m*\u001b[0m\u001b[0mduration\u001b[0m\u001b[1;33m)\u001b[0m\u001b[1;33m\u001b[0m\u001b[1;33m\u001b[0m\u001b[0m\n",
      "\u001b[1;31mTypeError\u001b[0m: type() takes 1 or 3 arguments"
     ]
    }
   ],
   "source": [
    "# First Bar\n",
    "bar1 = Bar(Sheet())\n",
    "\n",
    "paradiddle = make_paradiddle()\n",
    "\n",
    "_let = Note(1/16, 'L', 3)\n",
    "_letand = Note(1/16, 'L', 3)\n",
    "paradiddle.add_notes(_let, _letand)\n",
    "paradiddle.notes"
   ]
  },
  {
   "cell_type": "code",
   "execution_count": 4,
   "metadata": {},
   "outputs": [
    {
     "data": {
      "text/plain": [
       "Rhythm(duration=0.75, notes=[Note(duration=0.1875, sticking=L, dynamic=12, modifiers=['Accent', 'Dot']), Note(duration=0.1875, sticking=R, dynamic=3, modifiers=['Dot']), Note(duration=0.1875, sticking=L, dynamic=3, modifiers=['Dot']), Note(duration=0.1875, sticking=L, dynamic=3, modifiers=['Dot'])])"
      ]
     },
     "execution_count": 4,
     "metadata": {},
     "output_type": "execute_result"
    }
   ],
   "source": [
    "_2 = Note(1/8, 'L', 3, Accent(), dotted=True)\n",
    "_2a = Note(1/8, 'R', 3, dotted=True)\n",
    "_3and = Note(1/8, 'L', 3, dotted=True)\n",
    "_4e = Note(1/8, 'L', 3, dotted=True)\n",
    "\n",
    "dotted_left_paradiddle = Rhythm(_2, _2a, _3and, _4e)\n",
    "dotted_left_paradiddle"
   ]
  }
 ],
 "metadata": {
  "kernelspec": {
   "display_name": "Python 3",
   "language": "python",
   "name": "python3"
  },
  "language_info": {
   "codemirror_mode": {
    "name": "ipython",
    "version": 3
   },
   "file_extension": ".py",
   "mimetype": "text/x-python",
   "name": "python",
   "nbconvert_exporter": "python",
   "pygments_lexer": "ipython3",
   "version": "3.7.4"
  }
 },
 "nbformat": 4,
 "nbformat_minor": 4
}
