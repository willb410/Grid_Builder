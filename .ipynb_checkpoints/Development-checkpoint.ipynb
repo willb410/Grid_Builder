{
 "cells": [
  {
   "cell_type": "code",
   "execution_count": 41,
   "metadata": {},
   "outputs": [
    {
     "name": "stdout",
     "output_type": "stream",
     "text": [
      "The autoreload extension is already loaded. To reload it, use:\n",
      "  %reload_ext autoreload\n"
     ]
    }
   ],
   "source": [
    "%load_ext autoreload\n",
    "%autoreload 2\n",
    "import os\n",
    "import sys\n",
    "from itertools import cycle\n",
    "import inspect\n",
    "\n",
    "from Classes import *\n",
    "from MultiRhythms import *\n",
    "from Rhythms import *\n",
    "from Notes import *\n",
    "from Modifiers import *"
   ]
  },
  {
   "cell_type": "code",
   "execution_count": 42,
   "metadata": {},
   "outputs": [
    {
     "name": "stdout",
     "output_type": "stream",
     "text": [
      "c\n",
      "None\n",
      "m\n",
      "None\n",
      "m\n",
      "None\n",
      "m\n",
      "None\n",
      "m\n",
      "None\n"
     ]
    }
   ],
   "source": [
    "r = Rhythm(1/16)\n",
    "r.add_note('R')\n",
    "r.add_note('L')\n",
    "r.add_note('R')\n",
    "r.add_note('L')\n",
    "r.add_modulator(Accent(), 'accent', position=0)\n",
    "\n",
    "mr = MultiRhythm(r)\n",
    "print('c')\n",
    "mr.copy(3) #1\n",
    "print('m')\n",
    "mr.modulate(copies=4) #e\n",
    "print('m')\n",
    "mr.modulate(copies=4) #+\n",
    "print('m')\n",
    "mr.modulate(copies=4) #a\n",
    "print('m')\n",
    "mr.modulate(copies=2)"
   ]
  },
  {
   "cell_type": "code",
   "execution_count": 45,
   "metadata": {},
   "outputs": [
    {
     "data": {
      "text/plain": [
       "[('copy', None),\n",
       " ('modulate', <generator object MultiRhythm.modulate at 0x000001F964736DC8>),\n",
       " ('modulate', <generator object MultiRhythm.modulate at 0x000001F964553348>),\n",
       " ('modulate', <generator object MultiRhythm.modulate at 0x000001F964762048>),\n",
       " ('modulate', <generator object MultiRhythm.modulate at 0x000001F9647620C8>)]"
      ]
     },
     "execution_count": 45,
     "metadata": {},
     "output_type": "execute_result"
    }
   ],
   "source": [
    "mr.actions"
   ]
  },
  {
   "cell_type": "code",
   "execution_count": 43,
   "metadata": {},
   "outputs": [
    {
     "name": "stdout",
     "output_type": "stream",
     "text": [
      "2170643945608\n",
      "2170643678792\n",
      "2170643647688\n",
      "2170643764040\n"
     ]
    }
   ],
   "source": [
    "for rh in mr.rhythms:\n",
    "    print(id(rh))"
   ]
  },
  {
   "cell_type": "code",
   "execution_count": 44,
   "metadata": {},
   "outputs": [
    {
     "data": {
      "text/plain": [
       "['direction', 'name', 'copies']"
      ]
     },
     "execution_count": 44,
     "metadata": {},
     "output_type": "execute_result"
    }
   ],
   "source": [
    "sig = inspect.signature(mr.modulate)\n",
    "list(sig.parameters)"
   ]
  }
 ],
 "metadata": {
  "kernelspec": {
   "display_name": "Python 3",
   "language": "python",
   "name": "python3"
  },
  "language_info": {
   "codemirror_mode": {
    "name": "ipython",
    "version": 3
   },
   "file_extension": ".py",
   "mimetype": "text/x-python",
   "name": "python",
   "nbconvert_exporter": "python",
   "pygments_lexer": "ipython3",
   "version": "3.7.4"
  }
 },
 "nbformat": 4,
 "nbformat_minor": 4
}
