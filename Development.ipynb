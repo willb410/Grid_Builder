{
 "cells": [
  {
   "cell_type": "code",
   "execution_count": null,
   "metadata": {},
   "outputs": [],
   "source": [
    "import os\n",
    "import sys\n",
    "from itertools import cycle\n",
    "\n",
    "from Classes import *\n",
    "from MultiRhythms import *\n",
    "from Rhythms import *\n",
    "from Notes import *\n",
    "from Modifiers import *"
   ]
  },
  {
   "cell_type": "code",
   "execution_count": 23,
   "metadata": {},
   "outputs": [
    {
     "data": {
      "text/plain": [
       "Note(duration=0.125, sticking=R, dynamic=3, modifiers=['Flam'])"
      ]
     },
     "execution_count": 23,
     "metadata": {},
     "output_type": "execute_result"
    }
   ],
   "source": [
    "self = Note(1/8, 'R', Accent(), Flam())\n",
    "\n",
    "name = 'Accent'\n",
    "\n",
    "for i, modifier in enumerate(self.modifiers):\n",
    "    if modifier.name == name:\n",
    "        break\n",
    "removed_modifier = self.modifiers.pop(i)\n",
    "removed_modifier._note = None\n",
    "mod_dict = modifier.__dict__\n",
    "for att, val in mod_dict.items():\n",
    "    if hasattr(self, att) and val:\n",
    "        setattr(self, att, self.__dict__[f\"_{att}_default\"])\n",
    "self"
   ]
  },
  {
   "cell_type": "code",
   "execution_count": 3,
   "metadata": {},
   "outputs": [
    {
     "name": "stdout",
     "output_type": "stream",
     "text": [
      "[Flam(location=left, _note=Note(duration=0.125, sticking=R, dynamic=3, modifiers=['Flam']), )]\n"
     ]
    }
   ],
   "source": [
    "self = Note(1/8, 'R', Accent(), Flam())\n",
    "# print(self.modifiers)\n",
    "self.remove_modifier('Accent')\n",
    "print(self.left)"
   ]
  }
 ],
 "metadata": {
  "kernelspec": {
   "display_name": "Python 3",
   "language": "python",
   "name": "python3"
  },
  "language_info": {
   "codemirror_mode": {
    "name": "ipython",
    "version": 3
   },
   "file_extension": ".py",
   "mimetype": "text/x-python",
   "name": "python",
   "nbconvert_exporter": "python",
   "pygments_lexer": "ipython3",
   "version": "3.7.4"
  }
 },
 "nbformat": 4,
 "nbformat_minor": 4
}
