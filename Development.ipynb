{
 "cells": [
  {
   "cell_type": "code",
   "execution_count": 1,
   "metadata": {},
   "outputs": [],
   "source": [
    "import os\n",
    "import sys\n",
    "from itertools import cycle\n",
    "\n",
    "from Classes import *\n",
    "from MultiRhythms import *\n",
    "from Rhythms import *\n",
    "from Notes import *\n",
    "from Modifiers import *"
   ]
  },
  {
   "cell_type": "code",
   "execution_count": 7,
   "metadata": {},
   "outputs": [
    {
     "name": "stdout",
     "output_type": "stream",
     "text": [
      "[Note(duration=0.0625, sticking=R, dynamic=3, modifiers=[]), Note(duration=0.0625, sticking=L, dynamic=12, modifiers=['Accent']), Note(duration=0.0625, sticking=R, dynamic=3, modifiers=[]), Note(duration=0.0625, sticking=L, dynamic=3, modifiers=[])]\n",
      "[Note(duration=0.0625, sticking=R, dynamic=3, modifiers=[]), Note(duration=0.0625, sticking=L, dynamic=3, modifiers=[]), Note(duration=0.0625, sticking=R, dynamic=12, modifiers=['Accent']), Note(duration=0.0625, sticking=L, dynamic=3, modifiers=[])]\n"
     ]
    }
   ],
   "source": [
    "r = Rhythm(1/16)\n",
    "r.add_note('R')\n",
    "r.add_note('L')\n",
    "r.add_note('R')\n",
    "r.add_note('L')\n",
    "r.add_modulator(Accent(), 'accent', position=0)\n",
    "r.modulate()\n",
    "print(r.notes)\n",
    "r.modulate()\n",
    "print(r.notes)"
   ]
  },
  {
   "cell_type": "code",
   "execution_count": 34,
   "metadata": {},
   "outputs": [],
   "source": [
    "# def modulate\n",
    "name = 'accent'\n",
    "direction = 'forward'\n",
    "\n",
    "mod = r.modulators[name]\n",
    "\n",
    "if mod._note:\n",
    "    position = r.notes.index(mod._note)\n",
    "    mod._note.remove_modifier(mod.name)\n",
    "else:\n",
    "    position = None\n",
    "    \n",
    "if direction == 'forward':\n",
    "    if position != None:\n",
    "        position += 1\n",
    "    else:\n",
    "        position = 0\n",
    "elif direction == 'backward':\n",
    "    if position != None:\n",
    "        position -= 1\n",
    "    else:\n",
    "        position = -1\n",
    "else:\n",
    "    raise Exception(f\"position only accepts 'forward' or 'backward', value {position} passed\")\n",
    "\n",
    "r.notes[position].add_modifier(mod)"
   ]
  }
 ],
 "metadata": {
  "kernelspec": {
   "display_name": "Python 3",
   "language": "python",
   "name": "python3"
  },
  "language_info": {
   "codemirror_mode": {
    "name": "ipython",
    "version": 3
   },
   "file_extension": ".py",
   "mimetype": "text/x-python",
   "name": "python",
   "nbconvert_exporter": "python",
   "pygments_lexer": "ipython3",
   "version": "3.7.4"
  }
 },
 "nbformat": 4,
 "nbformat_minor": 4
}
